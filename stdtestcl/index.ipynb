{
 "cells": [
  {
   "cell_type": "code",
   "execution_count": 16,
   "id": "f05d7422-4323-43ae-b39f-1e11278bee52",
   "metadata": {},
   "outputs": [
    {
     "data": {
      "text/html": [
       "<style>\n",
       "th {\n",
       "background-color:#55FF33;\n",
       "}\n",
       "td {\n",
       "background-color:#00AAFF;\n",
       "}\n",
       "table, th, td {\n",
       "    border:1px solid black;\n",
       "        text-align: center; \n",
       "    vertical-align: middle;\n",
       "}\n",
       "</style>\n"
      ],
      "text/plain": [
       "<IPython.core.display.HTML object>"
      ]
     },
     "metadata": {},
     "output_type": "display_data"
    }
   ],
   "source": [
    "%%html\n",
    "<style>\n",
    "th {\n",
    "background-color:#55FF33;\n",
    "}\n",
    "td {\n",
    "background-color:#00AAFF;\n",
    "}\n",
    "table, th, td {\n",
    "    border:1px solid black;\n",
    "        text-align: center; \n",
    "    vertical-align: middle;\n",
    "}\n",
    "</style>"
   ]
  },
  {
   "cell_type": "markdown",
   "id": "e6a37966-cb3b-492e-88d2-984e0833a4c9",
   "metadata": {},
   "source": [
    "## Task E. No Palindromes\n",
    "case analysis.\n",
    "\n",
    "1. S is not palindrome, obvious Yes\n",
    "2. S consists of same character, then Answer is No\n",
    "3. Let P = lowest position where $A_P != A_1$, $S_1$ = A[1..P], and $S_2$ = A[P+1...N]. if $S_2$ is not palindrome, then we are done. Else S = AbAb..AbA, where A = $\\underbrace{a...a}_{P-1}$.\n",
    "   1. if S = abab...aba, Answer is No\n",
    "   2. if S = AbA, Answer is None\n",
    "   3. Else, Answer is Yes, and $P_1$ = Aba, left is $P_2$\n",
    "   4. \n",
    "<table>\n",
    "    <tr><th>P: lowest p where $A_p != A_1$</th><th>Second part is palindrome?</th></tr>\n",
    "    <tr><td>2</td><td>YES</td></tr>\n",
    "</table>\n"
   ]
  },
  {
   "cell_type": "code",
   "execution_count": null,
   "id": "0f42ade7-79e7-4192-a52f-f2883ba14b16",
   "metadata": {},
   "outputs": [],
   "source": []
  },
  {
   "cell_type": "markdown",
   "id": "e963cc3b-e8a6-429c-95c0-fd5dc0c5d80d",
   "metadata": {},
   "source": [
    "### Ts\n",
    "sksh"
   ]
  },
  {
   "cell_type": "code",
   "execution_count": null,
   "id": "b89ac921-08f4-4406-8994-38a891333eaf",
   "metadata": {},
   "outputs": [],
   "source": []
  }
 ],
 "metadata": {
  "kernelspec": {
   "display_name": "Python 3 (ipykernel)",
   "language": "python",
   "name": "python3"
  },
  "language_info": {
   "codemirror_mode": {
    "name": "ipython",
    "version": 3
   },
   "file_extension": ".py",
   "mimetype": "text/x-python",
   "name": "python",
   "nbconvert_exporter": "python",
   "pygments_lexer": "ipython3",
   "version": "3.11.9"
  }
 },
 "nbformat": 4,
 "nbformat_minor": 5
}
